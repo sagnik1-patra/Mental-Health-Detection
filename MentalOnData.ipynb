{
 "cells": [
  {
   "cell_type": "code",
   "execution_count": 3,
   "id": "c59ba215-25c1-4ecf-a162-f204d847b47c",
   "metadata": {},
   "outputs": [],
   "source": [
    "import re\n",
    "import joblib\n",
    "from nltk.corpus import stopwords\n",
    "\n",
    "# Clean text\n",
    "def clean_text(text):\n",
    "    text = re.sub(r\"http\\S+|www\\S+|https\\S+\", '', text, flags=re.MULTILINE)\n",
    "    text = re.sub(r'\\@\\w+|\\#','', text)\n",
    "    text = re.sub(r'[^\\w\\s]', '', text)\n",
    "    text = re.sub(r'\\d+', '', text)\n",
    "    text = text.lower()\n",
    "    stop_words = set(stopwords.words('english'))\n",
    "    text = \" \".join([word for word in text.split() if word not in stop_words])\n",
    "    return text\n",
    "\n",
    "# Predict function\n",
    "def predict_mental_health_state(text):\n",
    "    model_path = \"C:/Users/sagni/Downloads/Mental Health Detection/logistic_model.joblib\"\n",
    "    vectorizer_path = \"C:/Users/sagni/Downloads/Mental Health Detection/tfidf_vectorizer.joblib\"\n",
    "\n",
    "    clf = joblib.load(model_path)\n",
    "    vectorizer = joblib.load(vectorizer_path)\n",
    "\n",
    "    cleaned_text = clean_text(text)\n",
    "    vec = vectorizer.transform([cleaned_text])\n",
    "    prediction = clf.predict(vec)[0]\n",
    "    confidence = clf.predict_proba(vec)[0][prediction]\n",
    "\n",
    "    if prediction == 1:\n",
    "        return f\"🧠 **Mental Distress Detected** ({confidence:.2f} confidence)\"\n",
    "    else:\n",
    "        return f\"✅ **Normal Mental State** ({confidence:.2f} confidence)\"\n"
   ]
  },
  {
   "cell_type": "code",
   "execution_count": 4,
   "id": "067a9dec-6138-4f82-94b2-fc3bb5d759c2",
   "metadata": {},
   "outputs": [
    {
     "name": "stderr",
     "output_type": "stream",
     "text": [
      "[nltk_data] Downloading package stopwords to\n",
      "[nltk_data]     C:\\Users\\sagni\\AppData\\Roaming\\nltk_data...\n",
      "[nltk_data]   Package stopwords is already up-to-date!\n"
     ]
    },
    {
     "name": "stdout",
     "output_type": "stream",
     "text": [
      "\n",
      "Example 1: I feel so anxious and can't sleep at night.\n",
      "✅ Normal Mental State (1.00 confidence)\n",
      "\n",
      "Example 2: Everything is going great in my life!\n",
      "✅ Normal Mental State (1.00 confidence)\n",
      "\n",
      "Example 3: I've been feeling really down and hopeless lately.\n",
      "✅ Normal Mental State (1.00 confidence)\n",
      "\n",
      "Example 4: Excited for my vacation next week!\n",
      "✅ Normal Mental State (1.00 confidence)\n",
      "\n",
      "Example 5: I'm constantly stressed and tired of everything.\n",
      "✅ Normal Mental State (1.00 confidence)\n"
     ]
    }
   ],
   "source": [
    "import re\n",
    "import joblib\n",
    "import nltk\n",
    "from nltk.corpus import stopwords\n",
    "\n",
    "# Download stopwords (only once)\n",
    "nltk.download('stopwords')\n",
    "\n",
    "# 🔧 Clean text function\n",
    "def clean_text(text):\n",
    "    text = re.sub(r\"http\\S+|www\\S+|https\\S+\", '', text, flags=re.MULTILINE)  # Remove URLs\n",
    "    text = re.sub(r'\\@\\w+|\\#','', text)  # Remove mentions/hashtags\n",
    "    text = re.sub(r'[^\\w\\s]', '', text)  # Remove punctuation\n",
    "    text = re.sub(r'\\d+', '', text)  # Remove numbers\n",
    "    text = text.lower()  # Lowercase\n",
    "    stop_words = set(stopwords.words('english'))\n",
    "    text = \" \".join([word for word in text.split() if word not in stop_words])\n",
    "    return text\n",
    "\n",
    "# 🧠 Predict mental health state\n",
    "def predict_mental_health_state(text):\n",
    "    # Load trained model and vectorizer\n",
    "    model_path = \"C:/Users/sagni/Downloads/Mental Health Detection/logistic_model.joblib\"\n",
    "    vectorizer_path = \"C:/Users/sagni/Downloads/Mental Health Detection/tfidf_vectorizer.joblib\"\n",
    "\n",
    "    clf = joblib.load(model_path)\n",
    "    vectorizer = joblib.load(vectorizer_path)\n",
    "\n",
    "    # Preprocess and transform input\n",
    "    cleaned_text = clean_text(text)\n",
    "    vec = vectorizer.transform([cleaned_text])\n",
    "\n",
    "    # Predict label and probability\n",
    "    prediction = clf.predict(vec)[0]\n",
    "    probability = clf.predict_proba(vec)[0][prediction]\n",
    "\n",
    "    # Return result with confidence\n",
    "    if prediction == 1:\n",
    "        return f\"🧠 Mental Distress Detected ({probability:.2f} confidence)\"\n",
    "    else:\n",
    "        return f\"✅ Normal Mental State ({probability:.2f} confidence)\"\n",
    "\n",
    "# 🔍 Example predictions\n",
    "if __name__ == \"__main__\":\n",
    "    examples = [\n",
    "        \"I feel so anxious and can't sleep at night.\",\n",
    "        \"Everything is going great in my life!\",\n",
    "        \"I've been feeling really down and hopeless lately.\",\n",
    "        \"Excited for my vacation next week!\",\n",
    "        \"I'm constantly stressed and tired of everything.\"\n",
    "    ]\n",
    "\n",
    "    for i, text in enumerate(examples, 1):\n",
    "        print(f\"\\nExample {i}: {text}\")\n",
    "        print(predict_mental_health_state(text))\n"
   ]
  },
  {
   "cell_type": "code",
   "execution_count": null,
   "id": "fffa39c3-e5e8-4198-b747-fdc98482951a",
   "metadata": {},
   "outputs": [],
   "source": []
  }
 ],
 "metadata": {
  "kernelspec": {
   "display_name": "Python 3.11 (moviepy)",
   "language": "python",
   "name": "py311"
  },
  "language_info": {
   "codemirror_mode": {
    "name": "ipython",
    "version": 3
   },
   "file_extension": ".py",
   "mimetype": "text/x-python",
   "name": "python",
   "nbconvert_exporter": "python",
   "pygments_lexer": "ipython3",
   "version": "3.11.9"
  }
 },
 "nbformat": 4,
 "nbformat_minor": 5
}
