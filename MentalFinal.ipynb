{
 "cells": [
  {
   "cell_type": "code",
   "execution_count": 1,
   "id": "3b6af4de-89c2-41b6-9b2a-a6c22417aed6",
   "metadata": {},
   "outputs": [
    {
     "name": "stdout",
     "output_type": "stream",
     "text": [
      "🔍 Classification Report:\n",
      "               precision    recall  f1-score   support\n",
      "\n",
      "     Anxiety       0.50      1.00      0.67         1\n",
      "  Depression       0.00      0.00      0.00         1\n",
      "      Normal       1.00      1.00      1.00         1\n",
      "      Stress       0.00      0.00      0.00         1\n",
      "\n",
      "    accuracy                           0.50         4\n",
      "   macro avg       0.38      0.50      0.42         4\n",
      "weighted avg       0.38      0.50      0.42         4\n",
      "\n",
      "✅ Model saved as 'mental_health_classifier.pkl'\n"
     ]
    },
    {
     "name": "stderr",
     "output_type": "stream",
     "text": [
      "C:\\Users\\sagni\\AppData\\Local\\Programs\\Python\\Python311\\Lib\\site-packages\\sklearn\\linear_model\\_logistic.py:1272: FutureWarning: 'multi_class' was deprecated in version 1.5 and will be removed in 1.7. From then on, it will always use 'multinomial'. Leave it to its default value to avoid this warning.\n",
      "  warnings.warn(\n",
      "C:\\Users\\sagni\\AppData\\Local\\Programs\\Python\\Python311\\Lib\\site-packages\\sklearn\\metrics\\_classification.py:1731: UndefinedMetricWarning: Precision is ill-defined and being set to 0.0 in labels with no predicted samples. Use `zero_division` parameter to control this behavior.\n",
      "  _warn_prf(average, modifier, f\"{metric.capitalize()} is\", result.shape[0])\n",
      "C:\\Users\\sagni\\AppData\\Local\\Programs\\Python\\Python311\\Lib\\site-packages\\sklearn\\metrics\\_classification.py:1731: UndefinedMetricWarning: Precision is ill-defined and being set to 0.0 in labels with no predicted samples. Use `zero_division` parameter to control this behavior.\n",
      "  _warn_prf(average, modifier, f\"{metric.capitalize()} is\", result.shape[0])\n",
      "C:\\Users\\sagni\\AppData\\Local\\Programs\\Python\\Python311\\Lib\\site-packages\\sklearn\\metrics\\_classification.py:1731: UndefinedMetricWarning: Precision is ill-defined and being set to 0.0 in labels with no predicted samples. Use `zero_division` parameter to control this behavior.\n",
      "  _warn_prf(average, modifier, f\"{metric.capitalize()} is\", result.shape[0])\n"
     ]
    }
   ],
   "source": [
    "import pandas as pd\n",
    "from sklearn.feature_extraction.text import TfidfVectorizer\n",
    "from sklearn.linear_model import LogisticRegression\n",
    "from sklearn.pipeline import Pipeline\n",
    "from sklearn.model_selection import train_test_split\n",
    "from sklearn.metrics import classification_report\n",
    "import joblib\n",
    "import numpy as np\n",
    "\n",
    "# Step 1: Create a balanced mock dataset\n",
    "data = {\n",
    "    'text': [\n",
    "        # Anxiety\n",
    "        \"I feel anxious before presentations.\",\n",
    "        \"My heart races when I think about the future.\",\n",
    "        \"I'm constantly worried about what might happen.\",\n",
    "        \"I get nervous in social situations.\",\n",
    "\n",
    "        # Depression\n",
    "        \"I feel hopeless and empty inside.\",\n",
    "        \"Nothing brings me joy anymore.\",\n",
    "        \"I have no motivation to get out of bed.\",\n",
    "        \"Life feels meaningless lately.\",\n",
    "\n",
    "        # Stress\n",
    "        \"I'm overwhelmed with work deadlines.\",\n",
    "        \"There's too much on my plate right now.\",\n",
    "        \"I can't focus due to stress.\",\n",
    "        \"My schedule is packed and I feel pressure all the time.\",\n",
    "\n",
    "        # Normal\n",
    "        \"I had a fun day at the park with my family.\",\n",
    "        \"I'm feeling relaxed and peaceful.\",\n",
    "        \"I enjoy my job and my coworkers.\",\n",
    "        \"Everything is going well in my life.\"\n",
    "    ],\n",
    "    'label': [\n",
    "        \"Anxiety\", \"Anxiety\", \"Anxiety\", \"Anxiety\",\n",
    "        \"Depression\", \"Depression\", \"Depression\", \"Depression\",\n",
    "        \"Stress\", \"Stress\", \"Stress\", \"Stress\",\n",
    "        \"Normal\", \"Normal\", \"Normal\", \"Normal\"\n",
    "    ]\n",
    "}\n",
    "\n",
    "df = pd.DataFrame(data)\n",
    "\n",
    "# Step 2: Split the data\n",
    "X_train, X_test, y_train, y_test = train_test_split(df['text'], df['label'], test_size=0.25, stratify=df['label'], random_state=42)\n",
    "\n",
    "# Step 3: Build the TF-IDF + Logistic Regression pipeline\n",
    "model = Pipeline([\n",
    "    ('tfidf', TfidfVectorizer()),\n",
    "    ('clf', LogisticRegression(multi_class='multinomial', solver='lbfgs', max_iter=1000))\n",
    "])\n",
    "\n",
    "# Step 4: Train\n",
    "model.fit(X_train, y_train)\n",
    "\n",
    "# Step 5: Evaluate\n",
    "y_pred = model.predict(X_test)\n",
    "print(\"🔍 Classification Report:\\n\", classification_report(y_test, y_pred))\n",
    "\n",
    "# Save the model\n",
    "joblib.dump(model, 'mental_health_classifier.pkl')\n",
    "print(\"✅ Model saved as 'mental_health_classifier.pkl'\")\n"
   ]
  },
  {
   "cell_type": "code",
   "execution_count": 2,
   "id": "58f11042-aebb-4fd6-bed8-47536000a63b",
   "metadata": {},
   "outputs": [
    {
     "name": "stdout",
     "output_type": "stream",
     "text": [
      "\n",
      "📋 Predictions:\n",
      "Example 1: I feel so anxious and nervous before the exam.\n",
      "→ Anxiety (0.37 confidence)\n",
      "\n",
      "Example 2: Everything feels hopeless and I don't see a point in trying anymore.\n",
      "→ Depression (0.34 confidence)\n",
      "\n",
      "Example 3: I’m completely stressed out with all these deadlines!\n",
      "→ Stress (0.36 confidence)\n",
      "\n",
      "Example 4: I had a great day with my family and friends!\n",
      "→ Normal (0.36 confidence)\n",
      "\n"
     ]
    }
   ],
   "source": [
    "import joblib\n",
    "import numpy as np\n",
    "\n",
    "# Load trained model\n",
    "model = joblib.load('mental_health_classifier.pkl')\n",
    "\n",
    "def predict_mental_health(text):\n",
    "    probabilities = model.predict_proba([text])[0]\n",
    "    classes = model.classes_\n",
    "    top_index = np.argmax(probabilities)\n",
    "    predicted_class = classes[top_index]\n",
    "    confidence = probabilities[top_index]\n",
    "    return predicted_class, round(confidence, 2)\n",
    "\n",
    "# Test examples\n",
    "examples = [\n",
    "    \"I feel so anxious and nervous before the exam.\",\n",
    "    \"Everything feels hopeless and I don't see a point in trying anymore.\",\n",
    "    \"I’m completely stressed out with all these deadlines!\",\n",
    "    \"I had a great day with my family and friends!\"\n",
    "]\n",
    "\n",
    "print(\"\\n📋 Predictions:\")\n",
    "for i, sentence in enumerate(examples):\n",
    "    label, conf = predict_mental_health(sentence)\n",
    "    print(f\"Example {i+1}: {sentence}\\n→ {label} ({conf} confidence)\\n\")\n"
   ]
  },
  {
   "cell_type": "code",
   "execution_count": null,
   "id": "bf36b4d9-6b25-4f1c-82e1-8e144e2214d4",
   "metadata": {},
   "outputs": [],
   "source": []
  }
 ],
 "metadata": {
  "kernelspec": {
   "display_name": "Python 3.11 (moviepy)",
   "language": "python",
   "name": "py311"
  },
  "language_info": {
   "codemirror_mode": {
    "name": "ipython",
    "version": 3
   },
   "file_extension": ".py",
   "mimetype": "text/x-python",
   "name": "python",
   "nbconvert_exporter": "python",
   "pygments_lexer": "ipython3",
   "version": "3.11.9"
  }
 },
 "nbformat": 4,
 "nbformat_minor": 5
}
