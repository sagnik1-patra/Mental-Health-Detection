{
 "cells": [
  {
   "cell_type": "code",
   "execution_count": 1,
   "id": "bfee0f24-91a6-460a-813f-59d66ef3b76c",
   "metadata": {},
   "outputs": [
    {
     "name": "stdout",
     "output_type": "stream",
     "text": [
      "Collecting facebook-scraper\n",
      "  Downloading facebook_scraper-0.2.59-py3-none-any.whl.metadata (12 kB)\n",
      "Collecting dateparser<2.0.0,>=1.0.0 (from facebook-scraper)\n",
      "  Downloading dateparser-1.2.2-py3-none-any.whl.metadata (29 kB)\n",
      "Collecting demjson3<4.0.0,>=3.0.5 (from facebook-scraper)\n",
      "  Downloading demjson3-3.0.6.tar.gz (131 kB)\n",
      "  Preparing metadata (setup.py): started\n",
      "  Preparing metadata (setup.py): finished with status 'done'\n",
      "Collecting requests-html<0.11.0,>=0.10.0 (from facebook-scraper)\n",
      "  Downloading requests_html-0.10.0-py3-none-any.whl.metadata (15 kB)\n",
      "Requirement already satisfied: python-dateutil>=2.7.0 in c:\\users\\sagni\\appdata\\local\\programs\\python\\python311\\lib\\site-packages (from dateparser<2.0.0,>=1.0.0->facebook-scraper) (2.9.0.post0)\n",
      "Requirement already satisfied: pytz>=2024.2 in c:\\users\\sagni\\appdata\\local\\programs\\python\\python311\\lib\\site-packages (from dateparser<2.0.0,>=1.0.0->facebook-scraper) (2025.2)\n",
      "Requirement already satisfied: regex>=2024.9.11 in c:\\users\\sagni\\appdata\\local\\programs\\python\\python311\\lib\\site-packages (from dateparser<2.0.0,>=1.0.0->facebook-scraper) (2024.11.6)\n",
      "Requirement already satisfied: tzlocal>=0.2 in c:\\users\\sagni\\appdata\\local\\programs\\python\\python311\\lib\\site-packages (from dateparser<2.0.0,>=1.0.0->facebook-scraper) (5.3.1)\n",
      "Requirement already satisfied: requests in c:\\users\\sagni\\appdata\\local\\programs\\python\\python311\\lib\\site-packages (from requests-html<0.11.0,>=0.10.0->facebook-scraper) (2.32.3)\n",
      "Collecting pyquery (from requests-html<0.11.0,>=0.10.0->facebook-scraper)\n",
      "  Downloading pyquery-2.0.1-py3-none-any.whl.metadata (9.0 kB)\n",
      "Collecting fake-useragent (from requests-html<0.11.0,>=0.10.0->facebook-scraper)\n",
      "  Downloading fake_useragent-2.2.0-py3-none-any.whl.metadata (17 kB)\n",
      "Collecting parse (from requests-html<0.11.0,>=0.10.0->facebook-scraper)\n",
      "  Downloading parse-1.20.2-py2.py3-none-any.whl.metadata (22 kB)\n",
      "Collecting bs4 (from requests-html<0.11.0,>=0.10.0->facebook-scraper)\n",
      "  Downloading bs4-0.0.2-py2.py3-none-any.whl.metadata (411 bytes)\n",
      "Collecting w3lib (from requests-html<0.11.0,>=0.10.0->facebook-scraper)\n",
      "  Downloading w3lib-2.3.1-py3-none-any.whl.metadata (2.3 kB)\n",
      "Collecting pyppeteer>=0.0.14 (from requests-html<0.11.0,>=0.10.0->facebook-scraper)\n",
      "  Downloading pyppeteer-2.0.0-py3-none-any.whl.metadata (7.1 kB)\n",
      "Collecting appdirs<2.0.0,>=1.4.3 (from pyppeteer>=0.0.14->requests-html<0.11.0,>=0.10.0->facebook-scraper)\n",
      "  Downloading appdirs-1.4.4-py2.py3-none-any.whl.metadata (9.0 kB)\n",
      "Requirement already satisfied: certifi>=2023 in c:\\users\\sagni\\appdata\\local\\programs\\python\\python311\\lib\\site-packages (from pyppeteer>=0.0.14->requests-html<0.11.0,>=0.10.0->facebook-scraper) (2025.1.31)\n",
      "Collecting importlib-metadata>=1.4 (from pyppeteer>=0.0.14->requests-html<0.11.0,>=0.10.0->facebook-scraper)\n",
      "  Downloading importlib_metadata-8.7.0-py3-none-any.whl.metadata (4.8 kB)\n",
      "Collecting pyee<12.0.0,>=11.0.0 (from pyppeteer>=0.0.14->requests-html<0.11.0,>=0.10.0->facebook-scraper)\n",
      "  Downloading pyee-11.1.1-py3-none-any.whl.metadata (2.8 kB)\n",
      "Requirement already satisfied: tqdm<5.0.0,>=4.42.1 in c:\\users\\sagni\\appdata\\local\\programs\\python\\python311\\lib\\site-packages (from pyppeteer>=0.0.14->requests-html<0.11.0,>=0.10.0->facebook-scraper) (4.67.1)\n",
      "Collecting urllib3<2.0.0,>=1.25.8 (from pyppeteer>=0.0.14->requests-html<0.11.0,>=0.10.0->facebook-scraper)\n",
      "  Downloading urllib3-1.26.20-py2.py3-none-any.whl.metadata (50 kB)\n",
      "Collecting websockets<11.0,>=10.0 (from pyppeteer>=0.0.14->requests-html<0.11.0,>=0.10.0->facebook-scraper)\n",
      "  Downloading websockets-10.4-cp311-cp311-win_amd64.whl.metadata (6.4 kB)\n",
      "Requirement already satisfied: typing-extensions in c:\\users\\sagni\\appdata\\local\\programs\\python\\python311\\lib\\site-packages (from pyee<12.0.0,>=11.0.0->pyppeteer>=0.0.14->requests-html<0.11.0,>=0.10.0->facebook-scraper) (4.12.2)\n",
      "Requirement already satisfied: colorama in c:\\users\\sagni\\appdata\\local\\programs\\python\\python311\\lib\\site-packages (from tqdm<5.0.0,>=4.42.1->pyppeteer>=0.0.14->requests-html<0.11.0,>=0.10.0->facebook-scraper) (0.4.6)\n",
      "Collecting zipp>=3.20 (from importlib-metadata>=1.4->pyppeteer>=0.0.14->requests-html<0.11.0,>=0.10.0->facebook-scraper)\n",
      "  Downloading zipp-3.23.0-py3-none-any.whl.metadata (3.6 kB)\n",
      "Requirement already satisfied: six>=1.5 in c:\\users\\sagni\\appdata\\local\\programs\\python\\python311\\lib\\site-packages (from python-dateutil>=2.7.0->dateparser<2.0.0,>=1.0.0->facebook-scraper) (1.17.0)\n",
      "Requirement already satisfied: tzdata in c:\\users\\sagni\\appdata\\local\\programs\\python\\python311\\lib\\site-packages (from tzlocal>=0.2->dateparser<2.0.0,>=1.0.0->facebook-scraper) (2025.1)\n",
      "Requirement already satisfied: beautifulsoup4 in c:\\users\\sagni\\appdata\\local\\programs\\python\\python311\\lib\\site-packages (from bs4->requests-html<0.11.0,>=0.10.0->facebook-scraper) (4.13.3)\n",
      "Requirement already satisfied: soupsieve>1.2 in c:\\users\\sagni\\appdata\\local\\programs\\python\\python311\\lib\\site-packages (from beautifulsoup4->bs4->requests-html<0.11.0,>=0.10.0->facebook-scraper) (2.6)\n",
      "Requirement already satisfied: lxml>=2.1 in c:\\users\\sagni\\appdata\\local\\programs\\python\\python311\\lib\\site-packages (from pyquery->requests-html<0.11.0,>=0.10.0->facebook-scraper) (6.0.0)\n",
      "Collecting cssselect>=1.2.0 (from pyquery->requests-html<0.11.0,>=0.10.0->facebook-scraper)\n",
      "  Downloading cssselect-1.3.0-py3-none-any.whl.metadata (2.6 kB)\n",
      "Requirement already satisfied: charset-normalizer<4,>=2 in c:\\users\\sagni\\appdata\\local\\programs\\python\\python311\\lib\\site-packages (from requests->requests-html<0.11.0,>=0.10.0->facebook-scraper) (3.4.1)\n",
      "Requirement already satisfied: idna<4,>=2.5 in c:\\users\\sagni\\appdata\\local\\programs\\python\\python311\\lib\\site-packages (from requests->requests-html<0.11.0,>=0.10.0->facebook-scraper) (3.7)\n",
      "Downloading facebook_scraper-0.2.59-py3-none-any.whl (45 kB)\n",
      "Downloading dateparser-1.2.2-py3-none-any.whl (315 kB)\n",
      "Downloading requests_html-0.10.0-py3-none-any.whl (13 kB)\n",
      "Downloading pyppeteer-2.0.0-py3-none-any.whl (82 kB)\n",
      "Downloading appdirs-1.4.4-py2.py3-none-any.whl (9.6 kB)\n",
      "Downloading pyee-11.1.1-py3-none-any.whl (15 kB)\n",
      "Downloading urllib3-1.26.20-py2.py3-none-any.whl (144 kB)\n",
      "Downloading websockets-10.4-cp311-cp311-win_amd64.whl (101 kB)\n",
      "Downloading importlib_metadata-8.7.0-py3-none-any.whl (27 kB)\n",
      "Downloading zipp-3.23.0-py3-none-any.whl (10 kB)\n",
      "Downloading bs4-0.0.2-py2.py3-none-any.whl (1.2 kB)\n",
      "Downloading fake_useragent-2.2.0-py3-none-any.whl (161 kB)\n",
      "Downloading parse-1.20.2-py2.py3-none-any.whl (20 kB)\n",
      "Downloading pyquery-2.0.1-py3-none-any.whl (22 kB)\n",
      "Downloading cssselect-1.3.0-py3-none-any.whl (18 kB)\n",
      "Downloading w3lib-2.3.1-py3-none-any.whl (21 kB)\n",
      "Building wheels for collected packages: demjson3\n",
      "  Building wheel for demjson3 (setup.py): started\n",
      "  Building wheel for demjson3 (setup.py): finished with status 'done'\n",
      "  Created wheel for demjson3: filename=demjson3-3.0.6-py3-none-any.whl size=75410 sha256=f032e53f42f65216593148eb62969cc207778cba384f31d8f480562aa095bf51\n",
      "  Stored in directory: c:\\users\\sagni\\appdata\\local\\pip\\cache\\wheels\\3b\\9d\\d5\\e8cbb4d529989f6d3f347fe914559ea4f66715bf299763af1c\n",
      "Successfully built demjson3\n",
      "Installing collected packages: parse, demjson3, appdirs, zipp, websockets, w3lib, urllib3, pyee, fake-useragent, cssselect, pyquery, importlib-metadata, dateparser, bs4, pyppeteer, requests-html, facebook-scraper\n",
      "\n",
      "  Attempting uninstall: websockets\n",
      "\n",
      "   --------- ------------------------------  4/17 [websockets]\n",
      "    Found existing installation: websockets 15.0.1\n",
      "   --------- ------------------------------  4/17 [websockets]\n",
      "    Uninstalling websockets-15.0.1:\n",
      "   --------- ------------------------------  4/17 [websockets]\n",
      "      Successfully uninstalled websockets-15.0.1\n",
      "   --------- ------------------------------  4/17 [websockets]\n",
      "   --------- ------------------------------  4/17 [websockets]\n",
      "   ----------- ----------------------------  5/17 [w3lib]\n",
      "  Attempting uninstall: urllib3\n",
      "   ----------- ----------------------------  5/17 [w3lib]\n",
      "    Found existing installation: urllib3 2.3.0\n",
      "   ----------- ----------------------------  5/17 [w3lib]\n",
      "    Uninstalling urllib3-2.3.0:\n",
      "   ----------- ----------------------------  5/17 [w3lib]\n",
      "      Successfully uninstalled urllib3-2.3.0\n",
      "   ----------- ----------------------------  5/17 [w3lib]\n",
      "   -------------- -------------------------  6/17 [urllib3]\n",
      "   ---------------- -----------------------  7/17 [pyee]\n",
      "   ------------------------- -------------- 11/17 [importlib-metadata]\n",
      "   ---------------------------- ----------- 12/17 [dateparser]\n",
      "   ---------------------------- ----------- 12/17 [dateparser]\n",
      "   ---------------------------- ----------- 12/17 [dateparser]\n",
      "   ---------------------------- ----------- 12/17 [dateparser]\n",
      "   ---------------------------- ----------- 12/17 [dateparser]\n",
      "   -------------------------------- ------- 14/17 [pyppeteer]\n",
      "   ------------------------------------- -- 16/17 [facebook-scraper]\n",
      "   ---------------------------------------- 17/17 [facebook-scraper]\n",
      "\n",
      "Successfully installed appdirs-1.4.4 bs4-0.0.2 cssselect-1.3.0 dateparser-1.2.2 demjson3-3.0.6 facebook-scraper-0.2.59 fake-useragent-2.2.0 importlib-metadata-8.7.0 parse-1.20.2 pyee-11.1.1 pyppeteer-2.0.0 pyquery-2.0.1 requests-html-0.10.0 urllib3-1.26.20 w3lib-2.3.1 websockets-10.4 zipp-3.23.0\n",
      "Note: you may need to restart the kernel to use updated packages.\n"
     ]
    },
    {
     "name": "stderr",
     "output_type": "stream",
     "text": [
      "  DEPRECATION: Building 'demjson3' using the legacy setup.py bdist_wheel mechanism, which will be removed in a future version. pip 25.3 will enforce this behaviour change. A possible replacement is to use the standardized build interface by setting the `--use-pep517` option, (possibly combined with `--no-build-isolation`), or adding a `pyproject.toml` file to the source tree of 'demjson3'. Discussion can be found at https://github.com/pypa/pip/issues/6334\n",
      "ERROR: pip's dependency resolver does not currently take into account all the packages that are installed. This behaviour is the source of the following dependency conflicts.\n",
      "yfinance 0.2.65 requires websockets>=13.0, but you have websockets 10.4 which is incompatible.\n"
     ]
    }
   ],
   "source": [
    "pip install facebook-scraper\n"
   ]
  },
  {
   "cell_type": "code",
   "execution_count": 3,
   "id": "e71eea0a-8c52-4e37-85c8-845fb6c375eb",
   "metadata": {},
   "outputs": [
    {
     "name": "stdout",
     "output_type": "stream",
     "text": [
      "Collecting lxml_html_clean\n",
      "  Downloading lxml_html_clean-0.4.2-py3-none-any.whl.metadata (2.4 kB)\n",
      "Requirement already satisfied: lxml in c:\\users\\sagni\\appdata\\local\\programs\\python\\python311\\lib\\site-packages (from lxml_html_clean) (6.0.0)\n",
      "Downloading lxml_html_clean-0.4.2-py3-none-any.whl (14 kB)\n",
      "Installing collected packages: lxml_html_clean\n",
      "Successfully installed lxml_html_clean-0.4.2\n",
      "Note: you may need to restart the kernel to use updated packages.\n"
     ]
    }
   ],
   "source": [
    "pip install lxml_html_clean\n"
   ]
  },
  {
   "cell_type": "code",
   "execution_count": 4,
   "id": "2e31012e-02db-490c-afcb-087e3e4c637b",
   "metadata": {},
   "outputs": [
    {
     "name": "stdin",
     "output_type": "stream",
     "text": [
      "📘 Enter Facebook page/user name (public):  IshaaSahaOfficial\n",
      "🔢 Enter number of posts to fetch:  5\n"
     ]
    },
    {
     "name": "stderr",
     "output_type": "stream",
     "text": [
      "C:\\Users\\sagni\\AppData\\Local\\Temp\\ipykernel_15248\\3186978783.py:20: UserWarning: A low page limit (<=2) might return no results, try increasing the limit\n",
      "  fb_posts = get_facebook_posts(username, max_posts=num)\n"
     ]
    },
    {
     "name": "stdout",
     "output_type": "stream",
     "text": [
      "⚠️ No posts found or unable to fetch posts.\n"
     ]
    }
   ],
   "source": [
    "from facebook_scraper import get_posts\n",
    "\n",
    "def get_facebook_posts(page_username, max_posts=5):\n",
    "    posts = []\n",
    "    try:\n",
    "        for post in get_posts(page_username, pages=2):\n",
    "            if 'text' in post and post['text']:\n",
    "                posts.append(post['text'])\n",
    "            if len(posts) >= max_posts:\n",
    "                break\n",
    "        return posts\n",
    "    except Exception as e:\n",
    "        print(f\"❌ Error fetching posts: {e}\")\n",
    "        return []\n",
    "\n",
    "if __name__ == \"__main__\":\n",
    "    username = input(\"📘 Enter Facebook page/user name (public): \").strip()\n",
    "    num = int(input(\"🔢 Enter number of posts to fetch: \"))\n",
    "\n",
    "    fb_posts = get_facebook_posts(username, max_posts=num)\n",
    "\n",
    "    if not fb_posts:\n",
    "        print(\"⚠️ No posts found or unable to fetch posts.\")\n",
    "    else:\n",
    "        print(\"\\n📄 Retrieved Facebook Posts:\\n\")\n",
    "        for i, post in enumerate(fb_posts, 1):\n",
    "            print(f\"🔹 Post {i}:\\n{post[:500]}\")  # Limit preview to 500 chars\n",
    "            print(\"-\" * 60)\n"
   ]
  },
  {
   "cell_type": "code",
   "execution_count": 5,
   "id": "b5d44f70-c366-4ede-9fd8-27c0e7ccdcab",
   "metadata": {},
   "outputs": [],
   "source": [
    "from facebook_scraper import get_posts, set_cookies\n",
    "\n",
    "# Replace with your actual cookies from browser\n",
    "cookies = {\n",
    "    \"c_user\": \"your_c_user_value_here\",\n",
    "    \"xs\": \"your_xs_value_here\"\n",
    "}\n",
    "\n",
    "# Set the cookies before calling get_posts\n",
    "set_cookies(cookies)\n",
    "\n",
    "def get_facebook_posts(page_username, max_posts=5):\n",
    "    posts = []\n",
    "    for post in get_posts(page_username, pages=max_posts):\n",
    "        if 'text' in post:\n",
    "            posts.append(post['text'])\n",
    "    return posts\n",
    "\n",
    "# Try again\n",
    "username = \"IshaaSahaOfficial\"\n",
    "num = 5\n",
    "fb_posts = get_facebook_posts(username, max_posts=num)\n",
    "\n",
    "for i, post in enumerate(fb_posts):\n",
    "    print(f\"\\nPost {i+1}:\\n{post}\")\n"
   ]
  },
  {
   "cell_type": "code",
   "execution_count": 6,
   "id": "f3d5325a-615f-4813-ac73-a87a477858ef",
   "metadata": {},
   "outputs": [
    {
     "name": "stdout",
     "output_type": "stream",
     "text": [
      "Requirement already satisfied: facebook_scraper in c:\\users\\sagni\\appdata\\local\\programs\\python\\python311\\lib\\site-packages (0.2.59)\n",
      "Requirement already satisfied: dateparser<2.0.0,>=1.0.0 in c:\\users\\sagni\\appdata\\local\\programs\\python\\python311\\lib\\site-packages (from facebook_scraper) (1.2.2)\n",
      "Requirement already satisfied: demjson3<4.0.0,>=3.0.5 in c:\\users\\sagni\\appdata\\local\\programs\\python\\python311\\lib\\site-packages (from facebook_scraper) (3.0.6)\n",
      "Requirement already satisfied: requests-html<0.11.0,>=0.10.0 in c:\\users\\sagni\\appdata\\local\\programs\\python\\python311\\lib\\site-packages (from facebook_scraper) (0.10.0)\n",
      "Requirement already satisfied: python-dateutil>=2.7.0 in c:\\users\\sagni\\appdata\\local\\programs\\python\\python311\\lib\\site-packages (from dateparser<2.0.0,>=1.0.0->facebook_scraper) (2.9.0.post0)\n",
      "Requirement already satisfied: pytz>=2024.2 in c:\\users\\sagni\\appdata\\local\\programs\\python\\python311\\lib\\site-packages (from dateparser<2.0.0,>=1.0.0->facebook_scraper) (2025.2)\n",
      "Requirement already satisfied: regex>=2024.9.11 in c:\\users\\sagni\\appdata\\local\\programs\\python\\python311\\lib\\site-packages (from dateparser<2.0.0,>=1.0.0->facebook_scraper) (2024.11.6)\n",
      "Requirement already satisfied: tzlocal>=0.2 in c:\\users\\sagni\\appdata\\local\\programs\\python\\python311\\lib\\site-packages (from dateparser<2.0.0,>=1.0.0->facebook_scraper) (5.3.1)\n",
      "Requirement already satisfied: requests in c:\\users\\sagni\\appdata\\local\\programs\\python\\python311\\lib\\site-packages (from requests-html<0.11.0,>=0.10.0->facebook_scraper) (2.32.3)\n",
      "Requirement already satisfied: pyquery in c:\\users\\sagni\\appdata\\local\\programs\\python\\python311\\lib\\site-packages (from requests-html<0.11.0,>=0.10.0->facebook_scraper) (2.0.1)\n",
      "Requirement already satisfied: fake-useragent in c:\\users\\sagni\\appdata\\local\\programs\\python\\python311\\lib\\site-packages (from requests-html<0.11.0,>=0.10.0->facebook_scraper) (2.2.0)\n",
      "Requirement already satisfied: parse in c:\\users\\sagni\\appdata\\local\\programs\\python\\python311\\lib\\site-packages (from requests-html<0.11.0,>=0.10.0->facebook_scraper) (1.20.2)\n",
      "Requirement already satisfied: bs4 in c:\\users\\sagni\\appdata\\local\\programs\\python\\python311\\lib\\site-packages (from requests-html<0.11.0,>=0.10.0->facebook_scraper) (0.0.2)\n",
      "Requirement already satisfied: w3lib in c:\\users\\sagni\\appdata\\local\\programs\\python\\python311\\lib\\site-packages (from requests-html<0.11.0,>=0.10.0->facebook_scraper) (2.3.1)\n",
      "Requirement already satisfied: pyppeteer>=0.0.14 in c:\\users\\sagni\\appdata\\local\\programs\\python\\python311\\lib\\site-packages (from requests-html<0.11.0,>=0.10.0->facebook_scraper) (2.0.0)\n",
      "Requirement already satisfied: appdirs<2.0.0,>=1.4.3 in c:\\users\\sagni\\appdata\\local\\programs\\python\\python311\\lib\\site-packages (from pyppeteer>=0.0.14->requests-html<0.11.0,>=0.10.0->facebook_scraper) (1.4.4)\n",
      "Requirement already satisfied: certifi>=2023 in c:\\users\\sagni\\appdata\\local\\programs\\python\\python311\\lib\\site-packages (from pyppeteer>=0.0.14->requests-html<0.11.0,>=0.10.0->facebook_scraper) (2025.1.31)\n",
      "Requirement already satisfied: importlib-metadata>=1.4 in c:\\users\\sagni\\appdata\\local\\programs\\python\\python311\\lib\\site-packages (from pyppeteer>=0.0.14->requests-html<0.11.0,>=0.10.0->facebook_scraper) (8.7.0)\n",
      "Requirement already satisfied: pyee<12.0.0,>=11.0.0 in c:\\users\\sagni\\appdata\\local\\programs\\python\\python311\\lib\\site-packages (from pyppeteer>=0.0.14->requests-html<0.11.0,>=0.10.0->facebook_scraper) (11.1.1)\n",
      "Requirement already satisfied: tqdm<5.0.0,>=4.42.1 in c:\\users\\sagni\\appdata\\local\\programs\\python\\python311\\lib\\site-packages (from pyppeteer>=0.0.14->requests-html<0.11.0,>=0.10.0->facebook_scraper) (4.67.1)\n",
      "Requirement already satisfied: urllib3<2.0.0,>=1.25.8 in c:\\users\\sagni\\appdata\\local\\programs\\python\\python311\\lib\\site-packages (from pyppeteer>=0.0.14->requests-html<0.11.0,>=0.10.0->facebook_scraper) (1.26.20)\n",
      "Requirement already satisfied: websockets<11.0,>=10.0 in c:\\users\\sagni\\appdata\\local\\programs\\python\\python311\\lib\\site-packages (from pyppeteer>=0.0.14->requests-html<0.11.0,>=0.10.0->facebook_scraper) (10.4)\n",
      "Requirement already satisfied: typing-extensions in c:\\users\\sagni\\appdata\\local\\programs\\python\\python311\\lib\\site-packages (from pyee<12.0.0,>=11.0.0->pyppeteer>=0.0.14->requests-html<0.11.0,>=0.10.0->facebook_scraper) (4.12.2)\n",
      "Requirement already satisfied: colorama in c:\\users\\sagni\\appdata\\local\\programs\\python\\python311\\lib\\site-packages (from tqdm<5.0.0,>=4.42.1->pyppeteer>=0.0.14->requests-html<0.11.0,>=0.10.0->facebook_scraper) (0.4.6)\n",
      "Requirement already satisfied: zipp>=3.20 in c:\\users\\sagni\\appdata\\local\\programs\\python\\python311\\lib\\site-packages (from importlib-metadata>=1.4->pyppeteer>=0.0.14->requests-html<0.11.0,>=0.10.0->facebook_scraper) (3.23.0)\n",
      "Requirement already satisfied: six>=1.5 in c:\\users\\sagni\\appdata\\local\\programs\\python\\python311\\lib\\site-packages (from python-dateutil>=2.7.0->dateparser<2.0.0,>=1.0.0->facebook_scraper) (1.17.0)\n",
      "Requirement already satisfied: tzdata in c:\\users\\sagni\\appdata\\local\\programs\\python\\python311\\lib\\site-packages (from tzlocal>=0.2->dateparser<2.0.0,>=1.0.0->facebook_scraper) (2025.1)\n",
      "Requirement already satisfied: beautifulsoup4 in c:\\users\\sagni\\appdata\\local\\programs\\python\\python311\\lib\\site-packages (from bs4->requests-html<0.11.0,>=0.10.0->facebook_scraper) (4.13.3)\n",
      "Requirement already satisfied: soupsieve>1.2 in c:\\users\\sagni\\appdata\\local\\programs\\python\\python311\\lib\\site-packages (from beautifulsoup4->bs4->requests-html<0.11.0,>=0.10.0->facebook_scraper) (2.6)\n",
      "Requirement already satisfied: lxml>=2.1 in c:\\users\\sagni\\appdata\\local\\programs\\python\\python311\\lib\\site-packages (from pyquery->requests-html<0.11.0,>=0.10.0->facebook_scraper) (6.0.0)\n",
      "Requirement already satisfied: cssselect>=1.2.0 in c:\\users\\sagni\\appdata\\local\\programs\\python\\python311\\lib\\site-packages (from pyquery->requests-html<0.11.0,>=0.10.0->facebook_scraper) (1.3.0)\n",
      "Requirement already satisfied: charset-normalizer<4,>=2 in c:\\users\\sagni\\appdata\\local\\programs\\python\\python311\\lib\\site-packages (from requests->requests-html<0.11.0,>=0.10.0->facebook_scraper) (3.4.1)\n",
      "Requirement already satisfied: idna<4,>=2.5 in c:\\users\\sagni\\appdata\\local\\programs\\python\\python311\\lib\\site-packages (from requests->requests-html<0.11.0,>=0.10.0->facebook_scraper) (3.7)\n",
      "Note: you may need to restart the kernel to use updated packages.\n"
     ]
    }
   ],
   "source": [
    "pip install facebook_scraper\n"
   ]
  },
  {
   "cell_type": "code",
   "execution_count": 7,
   "id": "7257c709-7d03-429a-8e63-252636ba35ff",
   "metadata": {},
   "outputs": [
    {
     "name": "stdout",
     "output_type": "stream",
     "text": [
      "📘 Enter Facebook page/user name (public): "
     ]
    },
    {
     "name": "stdin",
     "output_type": "stream",
     "text": [
      " IshaaSahaOfficial\n"
     ]
    },
    {
     "name": "stdout",
     "output_type": "stream",
     "text": [
      "🔢 Enter number of posts to fetch: "
     ]
    },
    {
     "name": "stdin",
     "output_type": "stream",
     "text": [
      " 1\n"
     ]
    },
    {
     "name": "stderr",
     "output_type": "stream",
     "text": [
      "C:\\Users\\sagni\\AppData\\Local\\Temp\\ipykernel_15248\\4173770296.py:32: UserWarning: A low page limit (<=2) might return no results, try increasing the limit\n",
      "  fb_posts = get_facebook_posts(username, max_posts=num)\n"
     ]
    },
    {
     "name": "stdout",
     "output_type": "stream",
     "text": [
      "⚠️ No posts found or unable to fetch posts.\n"
     ]
    }
   ],
   "source": [
    "from facebook_scraper import get_posts, set_cookies\n",
    "\n",
    "# Step 1: Set your cookies here (from your browser)\n",
    "cookies = {\n",
    "    \"c_user\": \"\t*************\",\n",
    "    \"xs\": \"***************************************************************************\"\n",
    "}\n",
    "\n",
    "# Step 2: Apply cookies\n",
    "set_cookies(cookies)\n",
    "\n",
    "# Step 3: Function to fetch posts\n",
    "def get_facebook_posts(page_username, max_posts=5):\n",
    "    posts = []\n",
    "    for post in get_posts(page_username, pages=max_posts):\n",
    "        if 'text' in post:\n",
    "            posts.append(post['text'])\n",
    "    return posts\n",
    "\n",
    "# Step 4: Example usage\n",
    "if __name__ == \"__main__\":\n",
    "    print(\"📘 Enter Facebook page/user name (public): \", end=\"\")\n",
    "    username = input().strip()\n",
    "\n",
    "    print(\"🔢 Enter number of posts to fetch: \", end=\"\")\n",
    "    try:\n",
    "        num = int(input().strip())\n",
    "    except:\n",
    "        print(\"Invalid number, using default = 5\")\n",
    "        num = 5\n",
    "\n",
    "    fb_posts = get_facebook_posts(username, max_posts=num)\n",
    "\n",
    "    if not fb_posts:\n",
    "        print(\"⚠️ No posts found or unable to fetch posts.\")\n",
    "    else:\n",
    "        for i, post in enumerate(fb_posts):\n",
    "            print(f\"\\n📄 Post {i+1}:\\n{post[:500]}...\")  # show first 500 characters\n"
   ]
  },
  {
   "cell_type": "code",
   "execution_count": null,
   "id": "b791124b-40ce-482d-8b91-da8d21a23c8a",
   "metadata": {},
   "outputs": [],
   "source": []
  }
 ],
 "metadata": {
  "kernelspec": {
   "display_name": "Python 3.11 (moviepy)",
   "language": "python",
   "name": "py311"
  },
  "language_info": {
   "codemirror_mode": {
    "name": "ipython",
    "version": 3
   },
   "file_extension": ".py",
   "mimetype": "text/x-python",
   "name": "python",
   "nbconvert_exporter": "python",
   "pygments_lexer": "ipython3",
   "version": "3.11.9"
  }
 },
 "nbformat": 4,
 "nbformat_minor": 5
}
