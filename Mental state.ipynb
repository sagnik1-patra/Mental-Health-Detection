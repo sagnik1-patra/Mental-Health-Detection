{
 "cells": [
  {
   "cell_type": "code",
   "execution_count": 1,
   "id": "0e9c7daf-918a-4c84-8e15-945fdf887690",
   "metadata": {},
   "outputs": [
    {
     "name": "stderr",
     "output_type": "stream",
     "text": [
      "[nltk_data] Downloading package stopwords to\n",
      "[nltk_data]     C:\\Users\\sagni\\AppData\\Roaming\\nltk_data...\n",
      "[nltk_data]   Package stopwords is already up-to-date!\n"
     ]
    },
    {
     "name": "stdout",
     "output_type": "stream",
     "text": [
      "Label Distribution:\n",
      " label\n",
      "0    1239018\n",
      "3       3754\n",
      "2        931\n",
      "1        481\n",
      "Name: count, dtype: int64\n"
     ]
    },
    {
     "name": "stderr",
     "output_type": "stream",
     "text": [
      "C:\\Users\\sagni\\AppData\\Local\\Programs\\Python\\Python311\\Lib\\site-packages\\sklearn\\linear_model\\_logistic.py:1272: FutureWarning: 'multi_class' was deprecated in version 1.5 and will be removed in 1.7. From then on, it will always use 'multinomial'. Leave it to its default value to avoid this warning.\n",
      "  warnings.warn(\n"
     ]
    },
    {
     "name": "stdout",
     "output_type": "stream",
     "text": [
      "\n",
      "✅ Accuracy: 0.9535639796332539\n",
      "\n",
      "📊 Classification Report:\n",
      "               precision    recall  f1-score   support\n",
      "\n",
      "      Normal       1.00      0.95      0.98    247758\n",
      "  Depression       0.13      0.79      0.22       111\n",
      "     Anxiety       0.02      0.50      0.03       176\n",
      "      Stress       0.12      0.84      0.21       792\n",
      "\n",
      "    accuracy                           0.95    248837\n",
      "   macro avg       0.31      0.77      0.36    248837\n",
      "weighted avg       1.00      0.95      0.97    248837\n",
      "\n",
      "✅ Model & vectorizer saved.\n"
     ]
    }
   ],
   "source": [
    "import pandas as pd\n",
    "import re\n",
    "import joblib\n",
    "import nltk\n",
    "from sklearn.model_selection import train_test_split\n",
    "from sklearn.feature_extraction.text import TfidfVectorizer\n",
    "from sklearn.linear_model import LogisticRegression\n",
    "from sklearn.metrics import classification_report\n",
    "from nltk.corpus import stopwords\n",
    "\n",
    "nltk.download('stopwords')\n",
    "\n",
    "# Load dataset\n",
    "df = pd.read_csv(\"C:/Users/sagni/Downloads/Mental Health Detection/abcnews-date-text.csv\")\n",
    "\n",
    "# 🧠 Assign multi-class labels using keywords\n",
    "def assign_label(text):\n",
    "    text = text.lower()\n",
    "    if any(word in text for word in ['depression', 'depressed', 'hopeless', 'worthless']):\n",
    "        return 1  # Depression\n",
    "    elif any(word in text for word in ['anxiety', 'anxious', 'nervous', 'panic']):\n",
    "        return 2  # Anxiety\n",
    "    elif any(word in text for word in ['stress', 'stressed', 'pressure', 'overwhelmed']):\n",
    "        return 3  # Stress\n",
    "    else:\n",
    "        return 0  # Normal\n",
    "\n",
    "df['label'] = df['headline_text'].apply(assign_label)\n",
    "\n",
    "# 🧹 Clean text\n",
    "def clean_text(text):\n",
    "    text = re.sub(r\"http\\S+|www\\S+|https\\S+\", '', text, flags=re.MULTILINE)\n",
    "    text = re.sub(r'\\@\\w+|\\#','', text)\n",
    "    text = re.sub(r'[^\\w\\s]', '', text)\n",
    "    text = re.sub(r'\\d+', '', text)\n",
    "    text = text.lower()\n",
    "    stop_words = set(stopwords.words('english'))\n",
    "    text = \" \".join([word for word in text.split() if word not in stop_words])\n",
    "    return text\n",
    "\n",
    "df['clean_text'] = df['headline_text'].apply(clean_text)\n",
    "\n",
    "# 📊 Show label counts\n",
    "print(\"Label Distribution:\\n\", df['label'].value_counts())\n",
    "\n",
    "# TF-IDF Vectorization\n",
    "vectorizer = TfidfVectorizer(max_features=5000)\n",
    "X = vectorizer.fit_transform(df['clean_text'])\n",
    "y = df['label']\n",
    "\n",
    "# Split\n",
    "X_train, X_test, y_train, y_test = train_test_split(X, y, test_size=0.2, random_state=42)\n",
    "\n",
    "# 🧠 Train Logistic Regression (multi-class)\n",
    "clf = LogisticRegression(max_iter=200, class_weight='balanced', multi_class='multinomial', solver='lbfgs')\n",
    "clf.fit(X_train, y_train)\n",
    "\n",
    "# Evaluate\n",
    "y_pred = clf.predict(X_test)\n",
    "print(\"\\n✅ Accuracy:\", clf.score(X_test, y_test))\n",
    "print(\"\\n📊 Classification Report:\\n\", classification_report(y_test, y_pred, target_names=['Normal', 'Depression', 'Anxiety', 'Stress']))\n",
    "\n",
    "# Save model & vectorizer\n",
    "joblib.dump(clf, \"C:/Users/sagni/Downloads/Mental Health Detection/multiclass_model.joblib\")\n",
    "joblib.dump(vectorizer, \"C:/Users/sagni/Downloads/Mental Health Detection/multiclass_vectorizer.joblib\")\n",
    "print(\"✅ Model & vectorizer saved.\")\n"
   ]
  },
  {
   "cell_type": "code",
   "execution_count": null,
   "id": "f4687da5-f865-4dfa-95c5-5c9c687709c2",
   "metadata": {},
   "outputs": [],
   "source": []
  }
 ],
 "metadata": {
  "kernelspec": {
   "display_name": "Python 3.11 (moviepy)",
   "language": "python",
   "name": "py311"
  },
  "language_info": {
   "codemirror_mode": {
    "name": "ipython",
    "version": 3
   },
   "file_extension": ".py",
   "mimetype": "text/x-python",
   "name": "python",
   "nbconvert_exporter": "python",
   "pygments_lexer": "ipython3",
   "version": "3.11.9"
  }
 },
 "nbformat": 4,
 "nbformat_minor": 5
}
