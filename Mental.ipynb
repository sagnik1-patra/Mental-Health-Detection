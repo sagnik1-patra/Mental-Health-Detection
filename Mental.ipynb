{
 "cells": [
  {
   "cell_type": "code",
   "execution_count": 1,
   "id": "f76745f6-d5df-436d-9adf-400c73e1889e",
   "metadata": {},
   "outputs": [
    {
     "name": "stderr",
     "output_type": "stream",
     "text": [
      "[nltk_data] Downloading package stopwords to\n",
      "[nltk_data]     C:\\Users\\sagni\\AppData\\Roaming\\nltk_data...\n",
      "[nltk_data]   Package stopwords is already up-to-date!\n"
     ]
    },
    {
     "name": "stdout",
     "output_type": "stream",
     "text": [
      "\n",
      "Example 1: I feel so anxious and nervous before the exam.\n",
      "😩 Stress (0.60 confidence)\n",
      "\n",
      "Example 2: Everything feels hopeless and I don't see a point in trying anymore.\n",
      "✅ Normal (0.75 confidence)\n",
      "\n",
      "Example 3: I’m completely stressed out with all these deadlines!\n",
      "✅ Normal (1.00 confidence)\n",
      "\n",
      "Example 4: I had a great day with my family and friends!\n",
      "✅ Normal (0.57 confidence)\n"
     ]
    }
   ],
   "source": [
    "import re\n",
    "import joblib\n",
    "import nltk\n",
    "from nltk.corpus import stopwords\n",
    "\n",
    "nltk.download('stopwords')\n",
    "\n",
    "def clean_text(text):\n",
    "    text = re.sub(r\"http\\S+|www\\S+|https\\S+\", '', text, flags=re.MULTILINE)\n",
    "    text = re.sub(r'\\@\\w+|\\#','', text)\n",
    "    text = re.sub(r'[^\\w\\s]', '', text)\n",
    "    text = re.sub(r'\\d+', '', text)\n",
    "    text = text.lower()\n",
    "    stop_words = set(stopwords.words('english'))\n",
    "    text = \" \".join([word for word in text.split() if word not in stop_words])\n",
    "    return text\n",
    "\n",
    "def predict_mental_state(text):\n",
    "    clf = joblib.load(\"C:/Users/sagni/Downloads/Mental Health Detection/multiclass_model.joblib\")\n",
    "    vectorizer = joblib.load(\"C:/Users/sagni/Downloads/Mental Health Detection/multiclass_vectorizer.joblib\")\n",
    "\n",
    "    clean = clean_text(text)\n",
    "    vec = vectorizer.transform([clean])\n",
    "    pred = clf.predict(vec)[0]\n",
    "    conf = max(clf.predict_proba(vec)[0])\n",
    "\n",
    "    labels = {\n",
    "        0: \"✅ Normal\",\n",
    "        1: \"😔 Depression\",\n",
    "        2: \"😰 Anxiety\",\n",
    "        3: \"😩 Stress\"\n",
    "    }\n",
    "\n",
    "    return f\"{labels[pred]} ({conf:.2f} confidence)\"\n",
    "\n",
    "# 🔍 Test\n",
    "examples = [\n",
    "    \"I feel so anxious and nervous before the exam.\",\n",
    "    \"Everything feels hopeless and I don't see a point in trying anymore.\",\n",
    "    \"I’m completely stressed out with all these deadlines!\",\n",
    "    \"I had a great day with my family and friends!\"\n",
    "]\n",
    "\n",
    "for i, example in enumerate(examples, 1):\n",
    "    print(f\"\\nExample {i}: {example}\")\n",
    "    print(predict_mental_state(example))\n"
   ]
  },
  {
   "cell_type": "code",
   "execution_count": null,
   "id": "846aabb5-4b88-427b-a167-75a40fc7757c",
   "metadata": {},
   "outputs": [],
   "source": []
  }
 ],
 "metadata": {
  "kernelspec": {
   "display_name": "Python 3.11 (moviepy)",
   "language": "python",
   "name": "py311"
  },
  "language_info": {
   "codemirror_mode": {
    "name": "ipython",
    "version": 3
   },
   "file_extension": ".py",
   "mimetype": "text/x-python",
   "name": "python",
   "nbconvert_exporter": "python",
   "pygments_lexer": "ipython3",
   "version": "3.11.9"
  }
 },
 "nbformat": 4,
 "nbformat_minor": 5
}
